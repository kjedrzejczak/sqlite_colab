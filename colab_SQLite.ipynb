{
  "nbformat": 4,
  "nbformat_minor": 0,
  "metadata": {
    "colab": {
      "provenance": [],
      "mount_file_id": "1i_HhM1NjtzsdWtImz3a__FHNbgcrbaoQ",
      "authorship_tag": "ABX9TyNl5W1X/hVSpkdM3pZF4UMS",
      "include_colab_link": true
    },
    "kernelspec": {
      "name": "python3",
      "display_name": "Python 3"
    },
    "language_info": {
      "name": "python"
    }
  },
  "cells": [
    {
      "cell_type": "markdown",
      "metadata": {
        "id": "view-in-github",
        "colab_type": "text"
      },
      "source": [
        "<a href=\"https://colab.research.google.com/github/kjedrzejczak/sqlite_colab/blob/main/colab_SQLite.ipynb\" target=\"_parent\"><img src=\"https://colab.research.google.com/assets/colab-badge.svg\" alt=\"Open In Colab\"/></a>"
      ]
    },
    {
      "cell_type": "code",
      "source": [
        "import sqlite3\n",
        "from google.colab import drive\n",
        "drive.mount('/content/drive')"
      ],
      "metadata": {
        "colab": {
          "base_uri": "https://localhost:8080/"
        },
        "id": "CZq4zpDYCqpZ",
        "outputId": "9ceeb77b-abbf-4826-e86f-a01f3464683e"
      },
      "execution_count": 20,
      "outputs": [
        {
          "output_type": "stream",
          "name": "stdout",
          "text": [
            "Drive already mounted at /content/drive; to attempt to forcibly remount, call drive.mount(\"/content/drive\", force_remount=True).\n"
          ]
        }
      ]
    },
    {
      "cell_type": "code",
      "source": [
        "%load_ext sql"
      ],
      "metadata": {
        "id": "LVEcCeBeC988"
      },
      "execution_count": null,
      "outputs": []
    },
    {
      "cell_type": "code",
      "source": [
        "%reload_ext sql"
      ],
      "metadata": {
        "id": "U4_QbaKxQIeW"
      },
      "execution_count": null,
      "outputs": []
    },
    {
      "cell_type": "markdown",
      "source": [
        "*#Creating Table through extension* ✨"
      ],
      "metadata": {
        "id": "gGMnwPNeKDsn"
      }
    },
    {
      "cell_type": "code",
      "source": [
        "%%sql\n",
        "sqlite:////content/drive/MyDrive/Lotto/test.db\n",
        "\n",
        "CREATE TABLE IF NOT EXISTS test (id PRIMARY KEY,\n",
        "                                 VAL1 INTIGER NOT NULL);\n",
        "\n",
        "INSERT INTO test VALUES (4, 2);\n",
        "SELECT * FROM test;"
      ],
      "metadata": {
        "colab": {
          "base_uri": "https://localhost:8080/",
          "height": 113
        },
        "id": "JRxl-A-DDWOz",
        "outputId": "ed5f7b9c-4026-48c3-a5be-985310d4db95"
      },
      "execution_count": null,
      "outputs": [
        {
          "output_type": "stream",
          "name": "stdout",
          "text": [
            "Done.\n",
            "1 rows affected.\n",
            "Done.\n"
          ]
        },
        {
          "output_type": "execute_result",
          "data": {
            "text/plain": [
              "[(4, 2)]"
            ],
            "text/html": [
              "<table>\n",
              "    <thead>\n",
              "        <tr>\n",
              "            <th>id</th>\n",
              "            <th>VAL1</th>\n",
              "        </tr>\n",
              "    </thead>\n",
              "    <tbody>\n",
              "        <tr>\n",
              "            <td>4</td>\n",
              "            <td>2</td>\n",
              "        </tr>\n",
              "    </tbody>\n",
              "</table>"
            ]
          },
          "metadata": {},
          "execution_count": 3
        }
      ]
    },
    {
      "cell_type": "markdown",
      "source": [
        "*#Creating Table through sqlite3* ✨"
      ],
      "metadata": {
        "id": "t7O4rFzgKS-G"
      }
    },
    {
      "cell_type": "code",
      "execution_count": null,
      "metadata": {
        "id": "P-gWo-b_8sQk"
      },
      "outputs": [],
      "source": [
        "conn = sqlite3.connect('/content/drive/MyDrive/Lotto/lotto.db')\n",
        "conn1 = sqlite3.connect('/content/drive/MyDrive/Lotto/test.db')\n",
        "cur = conn.cursor()\n",
        "cur1 = conn1.cursor()"
      ]
    },
    {
      "cell_type": "code",
      "source": [
        "cur.executescript('''DROP TABLE IF EXISTS \"lotto\";\n",
        "                     CREATE TABLE IF NOT EXISTS \"lotto\" (\"id\" INTEGER PRIMARY KEY AUTOINCREMENT,\n",
        "                                                          \"num1\" INTEGER NOT NULL,\n",
        "                                                          \"num2\" INTEGER NOT NULL,\n",
        "                                                          \"num3\" INTEGER NOT NULL,\n",
        "                                                          \"num4\" INTEGER NOT NULL,\n",
        "                                                          \"num5\" INTEGER NOT NULL)\n",
        "                 ''')"
      ],
      "metadata": {
        "colab": {
          "base_uri": "https://localhost:8080/"
        },
        "id": "SiXv8xK49qxI",
        "outputId": "3975a547-19f2-461a-8319-2eaf2d517e64"
      },
      "execution_count": null,
      "outputs": [
        {
          "output_type": "execute_result",
          "data": {
            "text/plain": [
              "<sqlite3.Cursor at 0x7fc4734abdc0>"
            ]
          },
          "metadata": {},
          "execution_count": 5
        }
      ]
    },
    {
      "cell_type": "code",
      "source": [
        "cur.executescript('''INSERT INTO lotto VALUES (1, 1, 2, 3, 4, 5),\n",
        "                                              (2, 2, 3, 4, 5, 6),\n",
        "                                              (3, 2, 3, 4, 5, 5)''')"
      ],
      "metadata": {
        "colab": {
          "base_uri": "https://localhost:8080/"
        },
        "id": "86iMEi61LKHk",
        "outputId": "88bf2a91-f889-41f0-c80a-f0613a814b43"
      },
      "execution_count": null,
      "outputs": [
        {
          "output_type": "execute_result",
          "data": {
            "text/plain": [
              "<sqlite3.Cursor at 0x7fc4734abdc0>"
            ]
          },
          "metadata": {},
          "execution_count": 6
        }
      ]
    },
    {
      "cell_type": "code",
      "source": [
        "conn.commit()"
      ],
      "metadata": {
        "id": "3r0JkYJcM3qL"
      },
      "execution_count": null,
      "outputs": []
    },
    {
      "cell_type": "code",
      "source": [
        "cur.execute('''SELECT * FROM lotto''')\n",
        "for i in cur.fetchall():\n",
        "  print(i)"
      ],
      "metadata": {
        "colab": {
          "base_uri": "https://localhost:8080/"
        },
        "id": "QWOZupKXMbS7",
        "outputId": "f1d091b3-47e7-478c-c979-8ce7dd2986d9"
      },
      "execution_count": null,
      "outputs": [
        {
          "output_type": "stream",
          "name": "stdout",
          "text": [
            "(1, 1, 2, 3, 4, 5)\n",
            "(2, 2, 3, 4, 5, 6)\n",
            "(3, 2, 3, 4, 5, 5)\n"
          ]
        }
      ]
    },
    {
      "cell_type": "code",
      "source": [
        "%%sql\n",
        "SELECT * FROM test;"
      ],
      "metadata": {
        "colab": {
          "base_uri": "https://localhost:8080/",
          "height": 95
        },
        "id": "nW6FNYxuLo0H",
        "outputId": "f5d80909-2067-4854-d953-a2528ea2db41"
      },
      "execution_count": null,
      "outputs": [
        {
          "output_type": "stream",
          "name": "stdout",
          "text": [
            " * sqlite:////content/drive/MyDrive/Lotto/test.db\n",
            "Done.\n"
          ]
        },
        {
          "output_type": "execute_result",
          "data": {
            "text/plain": [
              "[(4, 2)]"
            ],
            "text/html": [
              "<table>\n",
              "    <thead>\n",
              "        <tr>\n",
              "            <th>id</th>\n",
              "            <th>VAL1</th>\n",
              "        </tr>\n",
              "    </thead>\n",
              "    <tbody>\n",
              "        <tr>\n",
              "            <td>4</td>\n",
              "            <td>2</td>\n",
              "        </tr>\n",
              "    </tbody>\n",
              "</table>"
            ]
          },
          "metadata": {},
          "execution_count": 9
        }
      ]
    },
    {
      "cell_type": "markdown",
      "source": [
        "Connecting the table lotto 👈"
      ],
      "metadata": {
        "id": "WQA1wH5JUBKQ"
      }
    },
    {
      "cell_type": "code",
      "source": [
        "%sql sqlite:////content/drive/MyDrive/Lotto/lotto.db"
      ],
      "metadata": {
        "id": "EIfmbm3cTvAW"
      },
      "execution_count": null,
      "outputs": []
    },
    {
      "cell_type": "code",
      "source": [
        "%%sql\n",
        "SELECT * FROM lotto;"
      ],
      "metadata": {
        "colab": {
          "base_uri": "https://localhost:8080/",
          "height": 154
        },
        "id": "T1J8COivQSdy",
        "outputId": "15701d85-bedb-430e-e08f-4c218d03313b"
      },
      "execution_count": null,
      "outputs": [
        {
          "output_type": "stream",
          "name": "stdout",
          "text": [
            " * sqlite:////content/drive/MyDrive/Lotto/lotto.db\n",
            "   sqlite:////content/drive/MyDrive/Lotto/test.db\n",
            "Done.\n"
          ]
        },
        {
          "output_type": "execute_result",
          "data": {
            "text/plain": [
              "[(1, 1, 2, 3, 4, 5), (2, 2, 3, 4, 5, 6), (3, 2, 3, 4, 5, 5)]"
            ],
            "text/html": [
              "<table>\n",
              "    <thead>\n",
              "        <tr>\n",
              "            <th>id</th>\n",
              "            <th>num1</th>\n",
              "            <th>num2</th>\n",
              "            <th>num3</th>\n",
              "            <th>num4</th>\n",
              "            <th>num5</th>\n",
              "        </tr>\n",
              "    </thead>\n",
              "    <tbody>\n",
              "        <tr>\n",
              "            <td>1</td>\n",
              "            <td>1</td>\n",
              "            <td>2</td>\n",
              "            <td>3</td>\n",
              "            <td>4</td>\n",
              "            <td>5</td>\n",
              "        </tr>\n",
              "        <tr>\n",
              "            <td>2</td>\n",
              "            <td>2</td>\n",
              "            <td>3</td>\n",
              "            <td>4</td>\n",
              "            <td>5</td>\n",
              "            <td>6</td>\n",
              "        </tr>\n",
              "        <tr>\n",
              "            <td>3</td>\n",
              "            <td>2</td>\n",
              "            <td>3</td>\n",
              "            <td>4</td>\n",
              "            <td>5</td>\n",
              "            <td>5</td>\n",
              "        </tr>\n",
              "    </tbody>\n",
              "</table>"
            ]
          },
          "metadata": {},
          "execution_count": 11
        }
      ]
    },
    {
      "cell_type": "code",
      "source": [
        "conn.commit()\n",
        "conn.close()\n",
        "\n",
        "conn1.commit()\n",
        "conn1.close()"
      ],
      "metadata": {
        "id": "F-LRLoWcBq97"
      },
      "execution_count": null,
      "outputs": []
    },
    {
      "cell_type": "markdown",
      "source": [
        "Tipical code to apply"
      ],
      "metadata": {
        "id": "cgfKBrgEVWcT"
      }
    },
    {
      "cell_type": "code",
      "source": [
        "try:\n",
        "    sqliteConnection = sqlite3.connect('SQLite_Python.db')\n",
        "    cursor = sqliteConnection.cursor()\n",
        "    print(\"Successfully Connected to SQLite\")\n",
        "\n",
        "    sqlite_insert_query = \"\"\"INSERT INTO SqliteDb_developers\n",
        "                          (id, name, email, joining_date, salary)\n",
        "                           VALUES (1,'Python','MakesYou@Fly.com','2020-01-01',1000)\"\"\"\n",
        "\n",
        "\n",
        "    count = cursor.execute(sqlite_insert_query)\n",
        "    sqliteConnection.commit()\n",
        "    print(\"Record inserted successfully into SqliteDb_developers table \", cursor.rowcount)\n",
        "    cursor.close()\n",
        "\n",
        "except sqlite3.Error as error:\n",
        "    print(\"Failed to insert data into sqlite table\", error)\n",
        "finally:\n",
        "    if (sqliteConnection):\n",
        "        sqliteConnection.close()\n",
        "        print(\"The SQLite connection is closed\")"
      ],
      "metadata": {
        "id": "hpYGaYAGUnaO"
      },
      "execution_count": null,
      "outputs": []
    },
    {
      "cell_type": "markdown",
      "source": [
        "Reset sqlite environment"
      ],
      "metadata": {
        "id": "zKdDdxGJaUYG"
      }
    },
    {
      "cell_type": "code",
      "source": [
        "from google.colab import runtime\n",
        "runtime.unassign()"
      ],
      "metadata": {
        "id": "uLrdvXN3U6UL"
      },
      "execution_count": null,
      "outputs": []
    },
    {
      "cell_type": "code",
      "source": [
        "%lsmagic"
      ],
      "metadata": {
        "colab": {
          "base_uri": "https://localhost:8080/",
          "height": 243
        },
        "id": "0mNduvz3fhJe",
        "outputId": "f6e45f12-9477-408f-9a9c-b9ecfce768c4"
      },
      "execution_count": 13,
      "outputs": [
        {
          "output_type": "execute_result",
          "data": {
            "text/plain": [
              "Available line magics:\n",
              "%alias  %alias_magic  %autoawait  %autocall  %automagic  %autosave  %bookmark  %cat  %cd  %clear  %colors  %conda  %config  %connect_info  %cp  %debug  %dhist  %dirs  %doctest_mode  %ed  %edit  %env  %gui  %hist  %history  %killbgscripts  %ldir  %less  %lf  %lk  %ll  %load  %load_ext  %loadpy  %logoff  %logon  %logstart  %logstate  %logstop  %ls  %lsmagic  %lx  %macro  %magic  %man  %matplotlib  %mkdir  %more  %mv  %notebook  %page  %pastebin  %pdb  %pdef  %pdoc  %pfile  %pinfo  %pinfo2  %pip  %popd  %pprint  %precision  %prun  %psearch  %psource  %pushd  %pwd  %pycat  %pylab  %qtconsole  %quickref  %recall  %rehashx  %reload_ext  %rep  %rerun  %reset  %reset_selective  %rm  %rmdir  %run  %save  %sc  %set_env  %shell  %sql  %store  %sx  %system  %tb  %tensorflow_version  %time  %timeit  %unalias  %unload_ext  %who  %who_ls  %whos  %xdel  %xmode\n",
              "\n",
              "Available cell magics:\n",
              "%%!  %%HTML  %%SVG  %%bash  %%bigquery  %%capture  %%debug  %%file  %%html  %%javascript  %%js  %%latex  %%markdown  %%perl  %%prun  %%pypy  %%python  %%python2  %%python3  %%ruby  %%script  %%sh  %%shell  %%sql  %%svg  %%sx  %%system  %%time  %%timeit  %%writefile\n",
              "\n",
              "Automagic is ON, % prefix IS NOT needed for line magics."
            ],
            "application/json": {
              "line": {
                "automagic": "AutoMagics",
                "autocall": "AutoMagics",
                "alias_magic": "BasicMagics",
                "lsmagic": "BasicMagics",
                "magic": "BasicMagics",
                "page": "BasicMagics",
                "pprint": "BasicMagics",
                "colors": "BasicMagics",
                "xmode": "BasicMagics",
                "quickref": "BasicMagics",
                "doctest_mode": "BasicMagics",
                "gui": "BasicMagics",
                "precision": "BasicMagics",
                "notebook": "BasicMagics",
                "save": "CodeMagics",
                "pastebin": "CodeMagics",
                "loadpy": "CodeMagics",
                "load": "CodeMagics",
                "edit": "KernelMagics",
                "config": "ConfigMagics",
                "prun": "ExecutionMagics",
                "pdb": "ExecutionMagics",
                "debug": "ExecutionMagics",
                "tb": "ExecutionMagics",
                "run": "ExecutionMagics",
                "timeit": "ExecutionMagics",
                "time": "ExecutionMagics",
                "macro": "ExecutionMagics",
                "load_ext": "ExtensionMagics",
                "unload_ext": "ExtensionMagics",
                "reload_ext": "ExtensionMagics",
                "history": "HistoryMagics",
                "recall": "HistoryMagics",
                "rerun": "HistoryMagics",
                "logstart": "LoggingMagics",
                "logstop": "LoggingMagics",
                "logoff": "LoggingMagics",
                "logon": "LoggingMagics",
                "logstate": "LoggingMagics",
                "pinfo": "NamespaceMagics",
                "pinfo2": "NamespaceMagics",
                "pdef": "NamespaceMagics",
                "pdoc": "NamespaceMagics",
                "psource": "NamespaceMagics",
                "pfile": "NamespaceMagics",
                "psearch": "NamespaceMagics",
                "who_ls": "NamespaceMagics",
                "who": "NamespaceMagics",
                "whos": "NamespaceMagics",
                "reset": "NamespaceMagics",
                "reset_selective": "NamespaceMagics",
                "xdel": "NamespaceMagics",
                "alias": "OSMagics",
                "unalias": "OSMagics",
                "rehashx": "OSMagics",
                "pwd": "OSMagics",
                "cd": "OSMagics",
                "env": "OSMagics",
                "set_env": "OSMagics",
                "pushd": "OSMagics",
                "popd": "OSMagics",
                "dirs": "OSMagics",
                "dhist": "OSMagics",
                "sc": "OSMagics",
                "sx": "OSMagics",
                "system": "OSMagics",
                "bookmark": "OSMagics",
                "pycat": "OSMagics",
                "pip": "Other",
                "conda": "PackagingMagics",
                "matplotlib": "PylabMagics",
                "pylab": "PylabMagics",
                "killbgscripts": "ScriptMagics",
                "autoawait": "AsyncMagics",
                "ed": "Other",
                "hist": "Other",
                "rep": "Other",
                "clear": "KernelMagics",
                "less": "KernelMagics",
                "more": "KernelMagics",
                "man": "KernelMagics",
                "connect_info": "KernelMagics",
                "qtconsole": "KernelMagics",
                "autosave": "KernelMagics",
                "mkdir": "Other",
                "rmdir": "Other",
                "mv": "Other",
                "rm": "Other",
                "cp": "Other",
                "cat": "Other",
                "ls": "Other",
                "ll": "Other",
                "lf": "Other",
                "lk": "Other",
                "ldir": "Other",
                "lx": "Other",
                "store": "StoreMagics",
                "shell": "Other",
                "tensorflow_version": "Other",
                "sql": "SqlMagic"
              },
              "cell": {
                "js": "DisplayMagics",
                "javascript": "DisplayMagics",
                "latex": "DisplayMagics",
                "svg": "DisplayMagics",
                "html": "DisplayMagics",
                "markdown": "DisplayMagics",
                "prun": "ExecutionMagics",
                "debug": "ExecutionMagics",
                "timeit": "ExecutionMagics",
                "time": "ExecutionMagics",
                "capture": "ExecutionMagics",
                "sx": "OSMagics",
                "system": "OSMagics",
                "!": "OSMagics",
                "writefile": "OSMagics",
                "script": "ScriptMagics",
                "sh": "Other",
                "bash": "Other",
                "perl": "Other",
                "ruby": "Other",
                "python": "Other",
                "python2": "Other",
                "python3": "Other",
                "pypy": "Other",
                "SVG": "Other",
                "HTML": "Other",
                "file": "Other",
                "bigquery": "Other",
                "shell": "Other",
                "sql": "SqlMagic"
              }
            }
          },
          "metadata": {},
          "execution_count": 13
        }
      ]
    },
    {
      "cell_type": "code",
      "source": [
        " %mkdir --help"
      ],
      "metadata": {
        "colab": {
          "base_uri": "https://localhost:8080/"
        },
        "id": "shKRCbvuf58h",
        "outputId": "092283fb-1e86-4c7b-b317-45abd07aeb03"
      },
      "execution_count": 15,
      "outputs": [
        {
          "output_type": "stream",
          "name": "stdout",
          "text": [
            "Usage: mkdir [OPTION]... DIRECTORY...\n",
            "Create the DIRECTORY(ies), if they do not already exist.\n",
            "\n",
            "Mandatory arguments to long options are mandatory for short options too.\n",
            "  -m, --mode=MODE   set file mode (as in chmod), not a=rwx - umask\n",
            "  -p, --parents     no error if existing, make parent directories as needed\n",
            "  -v, --verbose     print a message for each created directory\n",
            "  -Z                   set SELinux security context of each created directory\n",
            "                         to the default type\n",
            "      --context[=CTX]  like -Z, or if CTX is specified then set the SELinux\n",
            "                         or SMACK security context to CTX\n",
            "      --help     display this help and exit\n",
            "      --version  output version information and exit\n",
            "\n",
            "GNU coreutils online help: <https://www.gnu.org/software/coreutils/>\n",
            "Full documentation <https://www.gnu.org/software/coreutils/mkdir>\n",
            "or available locally via: info '(coreutils) mkdir invocation'\n"
          ]
        }
      ]
    },
    {
      "cell_type": "code",
      "source": [
        "%pwd"
      ],
      "metadata": {
        "colab": {
          "base_uri": "https://localhost:8080/",
          "height": 36
        },
        "id": "r3-DjXoSgP62",
        "outputId": "94e4581f-589d-4e52-8678-b5d3a51b1f72"
      },
      "execution_count": 16,
      "outputs": [
        {
          "output_type": "execute_result",
          "data": {
            "text/plain": [
              "'/content'"
            ],
            "application/vnd.google.colaboratory.intrinsic+json": {
              "type": "string"
            }
          },
          "metadata": {},
          "execution_count": 16
        }
      ]
    },
    {
      "cell_type": "code",
      "source": [
        " %connect_info"
      ],
      "metadata": {
        "colab": {
          "base_uri": "https://localhost:8080/"
        },
        "id": "OSPaIb6hgTay",
        "outputId": "c7d47c00-6c5a-4961-be2c-33b876f79f2d"
      },
      "execution_count": 17,
      "outputs": [
        {
          "output_type": "stream",
          "name": "stdout",
          "text": [
            "{\n",
            "  \"shell_port\": 1,\n",
            "  \"iopub_port\": 2,\n",
            "  \"stdin_port\": 3,\n",
            "  \"control_port\": 4,\n",
            "  \"hb_port\": 5,\n",
            "  \"ip\": \"/root/.local/share/jupyter/runtime/kernel-4a4d4cbb-14ca-4e08-b256-6b32d930fba6-ipc\",\n",
            "  \"key\": \"\",\n",
            "  \"transport\": \"ipc\",\n",
            "  \"signature_scheme\": \"hmac-sha256\",\n",
            "  \"kernel_name\": \"\"\n",
            "}\n",
            "\n",
            "Paste the above JSON into a file, and connect with:\n",
            "    $> jupyter <app> --existing <file>\n",
            "or, if you are local, you can connect with just:\n",
            "    $> jupyter <app> --existing kernel-4a4d4cbb-14ca-4e08-b256-6b32d930fba6.json\n",
            "or even just:\n",
            "    $> jupyter <app> --existing\n",
            "if this is the most recent Jupyter kernel you have started.\n"
          ]
        }
      ]
    },
    {
      "cell_type": "markdown",
      "source": [
        "new folder"
      ],
      "metadata": {
        "id": "FIQVfPd0jRYn"
      }
    },
    {
      "cell_type": "code",
      "source": [
        " #  %mkdir /content/drive/MyDrive/Lotto"
      ],
      "metadata": {
        "id": "lMel2urIiLWT"
      },
      "execution_count": 21,
      "outputs": []
    },
    {
      "cell_type": "markdown",
      "source": [
        "delete folder"
      ],
      "metadata": {
        "id": "YxfVTDHnjTGn"
      }
    },
    {
      "cell_type": "code",
      "source": [
        " #  %rmdir /content/drive/MyDrive/Lotto"
      ],
      "metadata": {
        "id": "VKQT7SEojIo9"
      },
      "execution_count": 22,
      "outputs": []
    }
  ]
}