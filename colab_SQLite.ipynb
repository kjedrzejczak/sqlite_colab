{
  "nbformat": 4,
  "nbformat_minor": 0,
  "metadata": {
    "colab": {
      "provenance": [],
      "mount_file_id": "1i_HhM1NjtzsdWtImz3a__FHNbgcrbaoQ",
      "authorship_tag": "ABX9TyM6moNTz+ayRDf7D9eeeoBj",
      "include_colab_link": true
    },
    "kernelspec": {
      "name": "python3",
      "display_name": "Python 3"
    },
    "language_info": {
      "name": "python"
    }
  },
  "cells": [
    {
      "cell_type": "markdown",
      "metadata": {
        "id": "view-in-github",
        "colab_type": "text"
      },
      "source": [
        "<a href=\"https://colab.research.google.com/github/kjedrzejczak/sqlite_colab/blob/main/colab_SQLite.ipynb\" target=\"_parent\"><img src=\"https://colab.research.google.com/assets/colab-badge.svg\" alt=\"Open In Colab\"/></a>"
      ]
    },
    {
      "cell_type": "code",
      "source": [
        "import sqlite3\n",
        "from google.colab import drive\n",
        "drive.mount('/content/drive')"
      ],
      "metadata": {
        "colab": {
          "base_uri": "https://localhost:8080/"
        },
        "id": "CZq4zpDYCqpZ",
        "outputId": "4eaa56a3-3084-4107-ef59-ac5cf3a78de6"
      },
      "execution_count": 1,
      "outputs": [
        {
          "output_type": "stream",
          "name": "stdout",
          "text": [
            "Drive already mounted at /content/drive; to attempt to forcibly remount, call drive.mount(\"/content/drive\", force_remount=True).\n"
          ]
        }
      ]
    },
    {
      "cell_type": "code",
      "source": [
        "%load_ext sql"
      ],
      "metadata": {
        "id": "LVEcCeBeC988"
      },
      "execution_count": 2,
      "outputs": []
    },
    {
      "cell_type": "code",
      "source": [
        "%reload_ext sql"
      ],
      "metadata": {
        "id": "U4_QbaKxQIeW"
      },
      "execution_count": 139,
      "outputs": []
    },
    {
      "cell_type": "markdown",
      "source": [
        "*#Creating Table through extension*"
      ],
      "metadata": {
        "id": "gGMnwPNeKDsn"
      }
    },
    {
      "cell_type": "code",
      "source": [
        "%%sql\n",
        "sqlite:////content/drive/MyDrive/Lotto/test.db\n",
        "\n",
        "CREATE TABLE IF NOT EXISTS test (id PRIMARY KEY,\n",
        "                                 VAL1 INTIGER NOT NULL);\n",
        "\n",
        "INSERT INTO test VALUES (4, 2);\n",
        "SELECT * FROM test;"
      ],
      "metadata": {
        "colab": {
          "base_uri": "https://localhost:8080/",
          "height": 113
        },
        "id": "JRxl-A-DDWOz",
        "outputId": "ed5f7b9c-4026-48c3-a5be-985310d4db95"
      },
      "execution_count": 3,
      "outputs": [
        {
          "output_type": "stream",
          "name": "stdout",
          "text": [
            "Done.\n",
            "1 rows affected.\n",
            "Done.\n"
          ]
        },
        {
          "output_type": "execute_result",
          "data": {
            "text/plain": [
              "[(4, 2)]"
            ],
            "text/html": [
              "<table>\n",
              "    <thead>\n",
              "        <tr>\n",
              "            <th>id</th>\n",
              "            <th>VAL1</th>\n",
              "        </tr>\n",
              "    </thead>\n",
              "    <tbody>\n",
              "        <tr>\n",
              "            <td>4</td>\n",
              "            <td>2</td>\n",
              "        </tr>\n",
              "    </tbody>\n",
              "</table>"
            ]
          },
          "metadata": {},
          "execution_count": 3
        }
      ]
    },
    {
      "cell_type": "markdown",
      "source": [
        "*#Creating Table through sqlite3*"
      ],
      "metadata": {
        "id": "t7O4rFzgKS-G"
      }
    },
    {
      "cell_type": "code",
      "execution_count": 4,
      "metadata": {
        "id": "P-gWo-b_8sQk"
      },
      "outputs": [],
      "source": [
        "conn = sqlite3.connect('/content/drive/MyDrive/Lotto/lotto.db')\n",
        "conn1 = sqlite3.connect('/content/drive/MyDrive/Lotto/test.db')\n",
        "cur = conn.cursor()\n",
        "cur1 = conn1.cursor()"
      ]
    },
    {
      "cell_type": "code",
      "source": [
        "cur.executescript('''DROP TABLE IF EXISTS \"lotto\";\n",
        "                     CREATE TABLE IF NOT EXISTS \"lotto\" (\"id\" INTEGER PRIMARY KEY AUTOINCREMENT,\n",
        "                                                          \"num1\" INTEGER NOT NULL,\n",
        "                                                          \"num2\" INTEGER NOT NULL,\n",
        "                                                          \"num3\" INTEGER NOT NULL,\n",
        "                                                          \"num4\" INTEGER NOT NULL,\n",
        "                                                          \"num5\" INTEGER NOT NULL)\n",
        "                 ''')"
      ],
      "metadata": {
        "colab": {
          "base_uri": "https://localhost:8080/"
        },
        "id": "SiXv8xK49qxI",
        "outputId": "3975a547-19f2-461a-8319-2eaf2d517e64"
      },
      "execution_count": 5,
      "outputs": [
        {
          "output_type": "execute_result",
          "data": {
            "text/plain": [
              "<sqlite3.Cursor at 0x7fc4734abdc0>"
            ]
          },
          "metadata": {},
          "execution_count": 5
        }
      ]
    },
    {
      "cell_type": "code",
      "source": [
        "cur.executescript('''INSERT INTO lotto VALUES (1, 1, 2, 3, 4, 5),\n",
        "                                              (2, 2, 3, 4, 5, 6),\n",
        "                                              (3, 2, 3, 4, 5, 5)''')"
      ],
      "metadata": {
        "colab": {
          "base_uri": "https://localhost:8080/"
        },
        "id": "86iMEi61LKHk",
        "outputId": "88bf2a91-f889-41f0-c80a-f0613a814b43"
      },
      "execution_count": 6,
      "outputs": [
        {
          "output_type": "execute_result",
          "data": {
            "text/plain": [
              "<sqlite3.Cursor at 0x7fc4734abdc0>"
            ]
          },
          "metadata": {},
          "execution_count": 6
        }
      ]
    },
    {
      "cell_type": "code",
      "source": [
        "conn.commit()"
      ],
      "metadata": {
        "id": "3r0JkYJcM3qL"
      },
      "execution_count": 7,
      "outputs": []
    },
    {
      "cell_type": "code",
      "source": [
        "cur.execute('''SELECT * FROM lotto''')\n",
        "for i in cur.fetchall():\n",
        "  print(i)"
      ],
      "metadata": {
        "colab": {
          "base_uri": "https://localhost:8080/"
        },
        "id": "QWOZupKXMbS7",
        "outputId": "f1d091b3-47e7-478c-c979-8ce7dd2986d9"
      },
      "execution_count": 8,
      "outputs": [
        {
          "output_type": "stream",
          "name": "stdout",
          "text": [
            "(1, 1, 2, 3, 4, 5)\n",
            "(2, 2, 3, 4, 5, 6)\n",
            "(3, 2, 3, 4, 5, 5)\n"
          ]
        }
      ]
    },
    {
      "cell_type": "code",
      "source": [
        "%%sql\n",
        "SELECT * FROM test;"
      ],
      "metadata": {
        "colab": {
          "base_uri": "https://localhost:8080/",
          "height": 95
        },
        "id": "nW6FNYxuLo0H",
        "outputId": "f5d80909-2067-4854-d953-a2528ea2db41"
      },
      "execution_count": 9,
      "outputs": [
        {
          "output_type": "stream",
          "name": "stdout",
          "text": [
            " * sqlite:////content/drive/MyDrive/Lotto/test.db\n",
            "Done.\n"
          ]
        },
        {
          "output_type": "execute_result",
          "data": {
            "text/plain": [
              "[(4, 2)]"
            ],
            "text/html": [
              "<table>\n",
              "    <thead>\n",
              "        <tr>\n",
              "            <th>id</th>\n",
              "            <th>VAL1</th>\n",
              "        </tr>\n",
              "    </thead>\n",
              "    <tbody>\n",
              "        <tr>\n",
              "            <td>4</td>\n",
              "            <td>2</td>\n",
              "        </tr>\n",
              "    </tbody>\n",
              "</table>"
            ]
          },
          "metadata": {},
          "execution_count": 9
        }
      ]
    },
    {
      "cell_type": "markdown",
      "source": [
        "Connecting the table lotto"
      ],
      "metadata": {
        "id": "WQA1wH5JUBKQ"
      }
    },
    {
      "cell_type": "code",
      "source": [
        "%sql sqlite:////content/drive/MyDrive/Lotto/lotto.db"
      ],
      "metadata": {
        "id": "EIfmbm3cTvAW"
      },
      "execution_count": 10,
      "outputs": []
    },
    {
      "cell_type": "code",
      "source": [
        "%%sql\n",
        "SELECT * FROM lotto;"
      ],
      "metadata": {
        "colab": {
          "base_uri": "https://localhost:8080/",
          "height": 154
        },
        "id": "T1J8COivQSdy",
        "outputId": "15701d85-bedb-430e-e08f-4c218d03313b"
      },
      "execution_count": 11,
      "outputs": [
        {
          "output_type": "stream",
          "name": "stdout",
          "text": [
            " * sqlite:////content/drive/MyDrive/Lotto/lotto.db\n",
            "   sqlite:////content/drive/MyDrive/Lotto/test.db\n",
            "Done.\n"
          ]
        },
        {
          "output_type": "execute_result",
          "data": {
            "text/plain": [
              "[(1, 1, 2, 3, 4, 5), (2, 2, 3, 4, 5, 6), (3, 2, 3, 4, 5, 5)]"
            ],
            "text/html": [
              "<table>\n",
              "    <thead>\n",
              "        <tr>\n",
              "            <th>id</th>\n",
              "            <th>num1</th>\n",
              "            <th>num2</th>\n",
              "            <th>num3</th>\n",
              "            <th>num4</th>\n",
              "            <th>num5</th>\n",
              "        </tr>\n",
              "    </thead>\n",
              "    <tbody>\n",
              "        <tr>\n",
              "            <td>1</td>\n",
              "            <td>1</td>\n",
              "            <td>2</td>\n",
              "            <td>3</td>\n",
              "            <td>4</td>\n",
              "            <td>5</td>\n",
              "        </tr>\n",
              "        <tr>\n",
              "            <td>2</td>\n",
              "            <td>2</td>\n",
              "            <td>3</td>\n",
              "            <td>4</td>\n",
              "            <td>5</td>\n",
              "            <td>6</td>\n",
              "        </tr>\n",
              "        <tr>\n",
              "            <td>3</td>\n",
              "            <td>2</td>\n",
              "            <td>3</td>\n",
              "            <td>4</td>\n",
              "            <td>5</td>\n",
              "            <td>5</td>\n",
              "        </tr>\n",
              "    </tbody>\n",
              "</table>"
            ]
          },
          "metadata": {},
          "execution_count": 11
        }
      ]
    },
    {
      "cell_type": "code",
      "source": [
        "conn.commit()\n",
        "conn.close()\n",
        "\n",
        "conn1.commit()\n",
        "conn1.close()"
      ],
      "metadata": {
        "id": "F-LRLoWcBq97"
      },
      "execution_count": 12,
      "outputs": []
    },
    {
      "cell_type": "markdown",
      "source": [
        "Tipical code to apply"
      ],
      "metadata": {
        "id": "cgfKBrgEVWcT"
      }
    },
    {
      "cell_type": "code",
      "source": [
        "try:\n",
        "    sqliteConnection = sqlite3.connect('SQLite_Python.db')\n",
        "    cursor = sqliteConnection.cursor()\n",
        "    print(\"Successfully Connected to SQLite\")\n",
        "\n",
        "    sqlite_insert_query = \"\"\"INSERT INTO SqliteDb_developers\n",
        "                          (id, name, email, joining_date, salary)\n",
        "                           VALUES (1,'Python','MakesYou@Fly.com','2020-01-01',1000)\"\"\"\n",
        "\n",
        "\n",
        "    count = cursor.execute(sqlite_insert_query)\n",
        "    sqliteConnection.commit()\n",
        "    print(\"Record inserted successfully into SqliteDb_developers table \", cursor.rowcount)\n",
        "    cursor.close()\n",
        "\n",
        "except sqlite3.Error as error:\n",
        "    print(\"Failed to insert data into sqlite table\", error)\n",
        "finally:\n",
        "    if (sqliteConnection):\n",
        "        sqliteConnection.close()\n",
        "        print(\"The SQLite connection is closed\")"
      ],
      "metadata": {
        "id": "hpYGaYAGUnaO"
      },
      "execution_count": null,
      "outputs": []
    },
    {
      "cell_type": "code",
      "source": [
        "from google.colab import runtime\n",
        "runtime.unassign()"
      ],
      "metadata": {
        "id": "uLrdvXN3U6UL"
      },
      "execution_count": null,
      "outputs": []
    }
  ]
}